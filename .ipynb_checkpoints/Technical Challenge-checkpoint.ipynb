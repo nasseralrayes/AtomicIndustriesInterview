{
 "cells": [
  {
   "cell_type": "markdown",
   "metadata": {},
   "source": [
    "## Technical Challenge "
   ]
  },
  {
   "cell_type": "code",
   "execution_count": 1,
   "metadata": {},
   "outputs": [],
   "source": [
    "import meshio\n",
    "import pyvista as pv\n",
    "import numpy as np\n",
    "import os\n",
    "import math"
   ]
  },
  {
   "cell_type": "code",
   "execution_count": 2,
   "metadata": {
    "scrolled": false
   },
   "outputs": [
    {
     "name": "stdout",
     "output_type": "stream",
     "text": [
      "\n",
      "89527_b3bf425d_0_simple.msh\n"
     ]
    },
    {
     "data": {
      "application/vnd.jupyter.widget-view+json": {
       "model_id": "8a59b4e7bf244e0aad61a162a971c581",
       "version_major": 2,
       "version_minor": 0
      },
      "text/plain": [
       "Widget(value=\"<iframe src='http://localhost:52330/index.html?ui=P_0x222702be670_0&reconnect=auto' style='width…"
      ]
     },
     "metadata": {},
     "output_type": "display_data"
    },
    {
     "name": "stdout",
     "output_type": "stream",
     "text": [
      "\n",
      "89527_b3bf425d_10_complex.msh\n"
     ]
    },
    {
     "data": {
      "application/vnd.jupyter.widget-view+json": {
       "model_id": "d3b2548bcd794db9b6ef10c6ac189276",
       "version_major": 2,
       "version_minor": 0
      },
      "text/plain": [
       "Widget(value=\"<iframe src='http://localhost:52330/index.html?ui=P_0x2220970aaf0_1&reconnect=auto' style='width…"
      ]
     },
     "metadata": {},
     "output_type": "display_data"
    },
    {
     "name": "stdout",
     "output_type": "stream",
     "text": [
      "\n",
      "89527_b3bf425d_14_complex.msh\n"
     ]
    },
    {
     "data": {
      "application/vnd.jupyter.widget-view+json": {
       "model_id": "5a8b1478b65446a0bb17c9e2a160f9bf",
       "version_major": 2,
       "version_minor": 0
      },
      "text/plain": [
       "Widget(value=\"<iframe src='http://localhost:52330/index.html?ui=P_0x2220ce35400_2&reconnect=auto' style='width…"
      ]
     },
     "metadata": {},
     "output_type": "display_data"
    },
    {
     "name": "stdout",
     "output_type": "stream",
     "text": [
      "\n",
      "89527_b3bf425d_15_complex.msh\n"
     ]
    },
    {
     "data": {
      "application/vnd.jupyter.widget-view+json": {
       "model_id": "fd9d929880944beeb13fc4db1ac7770e",
       "version_major": 2,
       "version_minor": 0
      },
      "text/plain": [
       "Widget(value=\"<iframe src='http://localhost:52330/index.html?ui=P_0x2220cff67c0_3&reconnect=auto' style='width…"
      ]
     },
     "metadata": {},
     "output_type": "display_data"
    },
    {
     "name": "stdout",
     "output_type": "stream",
     "text": [
      "\n",
      "89527_b3bf425d_17_complex.msh\n"
     ]
    },
    {
     "data": {
      "application/vnd.jupyter.widget-view+json": {
       "model_id": "819ce24e309f41b68b6f84e91989ba07",
       "version_major": 2,
       "version_minor": 0
      },
      "text/plain": [
       "Widget(value=\"<iframe src='http://localhost:52330/index.html?ui=P_0x2220d1b6040_4&reconnect=auto' style='width…"
      ]
     },
     "metadata": {},
     "output_type": "display_data"
    },
    {
     "name": "stdout",
     "output_type": "stream",
     "text": [
      "\n",
      "89527_b3bf425d_18_complex.msh\n"
     ]
    },
    {
     "data": {
      "application/vnd.jupyter.widget-view+json": {
       "model_id": "735108c34acc48f3b338e2825ab07bc1",
       "version_major": 2,
       "version_minor": 0
      },
      "text/plain": [
       "Widget(value=\"<iframe src='http://localhost:52330/index.html?ui=P_0x2220d031370_5&reconnect=auto' style='width…"
      ]
     },
     "metadata": {},
     "output_type": "display_data"
    },
    {
     "name": "stdout",
     "output_type": "stream",
     "text": [
      "\n",
      "89527_b3bf425d_19_complex.msh\n"
     ]
    },
    {
     "data": {
      "application/vnd.jupyter.widget-view+json": {
       "model_id": "6a21b140ffd147a99003826ffbb39007",
       "version_major": 2,
       "version_minor": 0
      },
      "text/plain": [
       "Widget(value=\"<iframe src='http://localhost:52330/index.html?ui=P_0x2220d1b0220_6&reconnect=auto' style='width…"
      ]
     },
     "metadata": {},
     "output_type": "display_data"
    },
    {
     "name": "stdout",
     "output_type": "stream",
     "text": [
      "\n",
      "89527_b3bf425d_1_complex.msh\n"
     ]
    },
    {
     "data": {
      "application/vnd.jupyter.widget-view+json": {
       "model_id": "6bd4ff79d5c84b589771d403fbea30f2",
       "version_major": 2,
       "version_minor": 0
      },
      "text/plain": [
       "Widget(value=\"<iframe src='http://localhost:52330/index.html?ui=P_0x2220fc87310_7&reconnect=auto' style='width…"
      ]
     },
     "metadata": {},
     "output_type": "display_data"
    },
    {
     "name": "stdout",
     "output_type": "stream",
     "text": [
      "\n",
      "89527_b3bf425d_21_complex.msh\n"
     ]
    },
    {
     "data": {
      "application/vnd.jupyter.widget-view+json": {
       "model_id": "21f6845b2f67428b813d4c3d3870e039",
       "version_major": 2,
       "version_minor": 0
      },
      "text/plain": [
       "Widget(value=\"<iframe src='http://localhost:52330/index.html?ui=P_0x2220d1b6a60_8&reconnect=auto' style='width…"
      ]
     },
     "metadata": {},
     "output_type": "display_data"
    },
    {
     "name": "stdout",
     "output_type": "stream",
     "text": [
      "\n",
      "89527_b3bf425d_22_complex.msh\n"
     ]
    },
    {
     "data": {
      "application/vnd.jupyter.widget-view+json": {
       "model_id": "247eae975a3241a387b8085ab3474fa7",
       "version_major": 2,
       "version_minor": 0
      },
      "text/plain": [
       "Widget(value=\"<iframe src='http://localhost:52330/index.html?ui=P_0x2220fcabd30_9&reconnect=auto' style='width…"
      ]
     },
     "metadata": {},
     "output_type": "display_data"
    },
    {
     "name": "stdout",
     "output_type": "stream",
     "text": [
      "\n",
      "89527_b3bf425d_23_complex.msh\n"
     ]
    },
    {
     "data": {
      "application/vnd.jupyter.widget-view+json": {
       "model_id": "e117414fe01f48049f11377ffb1cfc4e",
       "version_major": 2,
       "version_minor": 0
      },
      "text/plain": [
       "Widget(value=\"<iframe src='http://localhost:52330/index.html?ui=P_0x2220fc87520_10&reconnect=auto' style='widt…"
      ]
     },
     "metadata": {},
     "output_type": "display_data"
    },
    {
     "name": "stdout",
     "output_type": "stream",
     "text": [
      "\n",
      "89527_b3bf425d_24_complex.msh\n"
     ]
    },
    {
     "data": {
      "application/vnd.jupyter.widget-view+json": {
       "model_id": "a1fab0554dbc426d81a468d2af83db6c",
       "version_major": 2,
       "version_minor": 0
      },
      "text/plain": [
       "Widget(value=\"<iframe src='http://localhost:52330/index.html?ui=P_0x2220fc87b20_11&reconnect=auto' style='widt…"
      ]
     },
     "metadata": {},
     "output_type": "display_data"
    },
    {
     "name": "stdout",
     "output_type": "stream",
     "text": [
      "\n",
      "89527_b3bf425d_25_complex.msh\n"
     ]
    },
    {
     "data": {
      "application/vnd.jupyter.widget-view+json": {
       "model_id": "70c09a77a2ec4ee6ba0dfc52126577ae",
       "version_major": 2,
       "version_minor": 0
      },
      "text/plain": [
       "Widget(value=\"<iframe src='http://localhost:52330/index.html?ui=P_0x2220d191730_12&reconnect=auto' style='widt…"
      ]
     },
     "metadata": {},
     "output_type": "display_data"
    },
    {
     "name": "stdout",
     "output_type": "stream",
     "text": [
      "\n",
      "89527_b3bf425d_26_complex.msh\n"
     ]
    },
    {
     "data": {
      "application/vnd.jupyter.widget-view+json": {
       "model_id": "630484dfb6d649b3bc0a32ecb98e0c50",
       "version_major": 2,
       "version_minor": 0
      },
      "text/plain": [
       "Widget(value=\"<iframe src='http://localhost:52330/index.html?ui=P_0x22214c7fb50_13&reconnect=auto' style='widt…"
      ]
     },
     "metadata": {},
     "output_type": "display_data"
    },
    {
     "name": "stdout",
     "output_type": "stream",
     "text": [
      "\n",
      "89527_b3bf425d_29_simple.msh\n"
     ]
    },
    {
     "data": {
      "application/vnd.jupyter.widget-view+json": {
       "model_id": "119e1ebc108e4cb19186e9f7e321fb3c",
       "version_major": 2,
       "version_minor": 0
      },
      "text/plain": [
       "Widget(value=\"<iframe src='http://localhost:52330/index.html?ui=P_0x22214cc3460_14&reconnect=auto' style='widt…"
      ]
     },
     "metadata": {},
     "output_type": "display_data"
    },
    {
     "name": "stdout",
     "output_type": "stream",
     "text": [
      "\n",
      "89527_b3bf425d_2_simple.msh\n"
     ]
    },
    {
     "data": {
      "application/vnd.jupyter.widget-view+json": {
       "model_id": "7416d7eb027c45e09c45d2b6e03b4169",
       "version_major": 2,
       "version_minor": 0
      },
      "text/plain": [
       "Widget(value=\"<iframe src='http://localhost:52330/index.html?ui=P_0x2220d1915e0_15&reconnect=auto' style='widt…"
      ]
     },
     "metadata": {},
     "output_type": "display_data"
    },
    {
     "name": "stdout",
     "output_type": "stream",
     "text": [
      "\n",
      "89527_b3bf425d_31_complex.msh\n"
     ]
    },
    {
     "data": {
      "application/vnd.jupyter.widget-view+json": {
       "model_id": "bc41114bffea42c580ec189ddacd60fc",
       "version_major": 2,
       "version_minor": 0
      },
      "text/plain": [
       "Widget(value=\"<iframe src='http://localhost:52330/index.html?ui=P_0x22214d0c820_16&reconnect=auto' style='widt…"
      ]
     },
     "metadata": {},
     "output_type": "display_data"
    },
    {
     "name": "stdout",
     "output_type": "stream",
     "text": [
      "\n",
      "89527_b3bf425d_32_complex.msh\n"
     ]
    },
    {
     "data": {
      "application/vnd.jupyter.widget-view+json": {
       "model_id": "4edb181a763d4e9ca9201c8becd17768",
       "version_major": 2,
       "version_minor": 0
      },
      "text/plain": [
       "Widget(value=\"<iframe src='http://localhost:52330/index.html?ui=P_0x2221a590ac0_17&reconnect=auto' style='widt…"
      ]
     },
     "metadata": {},
     "output_type": "display_data"
    },
    {
     "name": "stdout",
     "output_type": "stream",
     "text": [
      "\n",
      "89527_b3bf425d_35_simple.msh\n"
     ]
    },
    {
     "data": {
      "application/vnd.jupyter.widget-view+json": {
       "model_id": "8328274918da4114be94f6e586a33fb3",
       "version_major": 2,
       "version_minor": 0
      },
      "text/plain": [
       "Widget(value=\"<iframe src='http://localhost:52330/index.html?ui=P_0x22214d0c970_18&reconnect=auto' style='widt…"
      ]
     },
     "metadata": {},
     "output_type": "display_data"
    },
    {
     "name": "stdout",
     "output_type": "stream",
     "text": [
      "\n",
      "89527_b3bf425d_36_complex.msh\n"
     ]
    },
    {
     "data": {
      "application/vnd.jupyter.widget-view+json": {
       "model_id": "a26c8fa4367c44db8103ea77d32f5af4",
       "version_major": 2,
       "version_minor": 0
      },
      "text/plain": [
       "Widget(value=\"<iframe src='http://localhost:52330/index.html?ui=P_0x2221a5c9070_19&reconnect=auto' style='widt…"
      ]
     },
     "metadata": {},
     "output_type": "display_data"
    },
    {
     "name": "stdout",
     "output_type": "stream",
     "text": [
      "\n",
      "89527_b3bf425d_38_complex.msh\n"
     ]
    },
    {
     "data": {
      "application/vnd.jupyter.widget-view+json": {
       "model_id": "e9f15a786b7b4ffeb7af1b7c59a47758",
       "version_major": 2,
       "version_minor": 0
      },
      "text/plain": [
       "Widget(value=\"<iframe src='http://localhost:52330/index.html?ui=P_0x2221a590e20_20&reconnect=auto' style='widt…"
      ]
     },
     "metadata": {},
     "output_type": "display_data"
    },
    {
     "name": "stdout",
     "output_type": "stream",
     "text": [
      "\n",
      "89527_b3bf425d_39_complex.msh\n"
     ]
    },
    {
     "data": {
      "application/vnd.jupyter.widget-view+json": {
       "model_id": "2a624765585a4ec8ad35a8e9a2233014",
       "version_major": 2,
       "version_minor": 0
      },
      "text/plain": [
       "Widget(value=\"<iframe src='http://localhost:52330/index.html?ui=P_0x2221a5c91c0_21&reconnect=auto' style='widt…"
      ]
     },
     "metadata": {},
     "output_type": "display_data"
    },
    {
     "name": "stdout",
     "output_type": "stream",
     "text": [
      "\n",
      "89527_b3bf425d_40_simple.msh\n"
     ]
    },
    {
     "data": {
      "application/vnd.jupyter.widget-view+json": {
       "model_id": "252ba5947e484d5b898af087bb1e97c6",
       "version_major": 2,
       "version_minor": 0
      },
      "text/plain": [
       "Widget(value=\"<iframe src='http://localhost:52330/index.html?ui=P_0x2221d8a5310_22&reconnect=auto' style='widt…"
      ]
     },
     "metadata": {},
     "output_type": "display_data"
    }
   ],
   "source": [
    "for file in os.listdir('parts'):\n",
    "    mesh = pv.read('parts/{}'.format(file))\n",
    "    print(file)\n",
    "    mesh.plot(color='grey', smooth_shading=True, split_sharp_edges=True)"
   ]
  },
  {
   "cell_type": "code",
   "execution_count": 3,
   "metadata": {},
   "outputs": [],
   "source": [
    "def is_rectangular(mesh):\n",
    "    \n",
    "    num_vertex = 0\n",
    "    num_line = 0\n",
    "    num_triangle = 0\n",
    "    \n",
    "    for i in mesh.cells:\n",
    "        if i.type == 'vertex':\n",
    "            num_vertex += 1\n",
    "        elif i.type == 'line':\n",
    "            num_line += 1\n",
    "        elif i.type == 'triangle':\n",
    "            num_triangle += 1\n",
    "    \n",
    "    if num_vertex != 8:\n",
    "        return 0\n",
    "    if num_line != 12:\n",
    "        return 0\n",
    "    if num_triangle != 6:\n",
    "        return 0\n",
    "    \n",
    "    def angle_between_vectors(v1, v2):\n",
    "        return np.arccos(np.dot(v1, v2) / (np.linalg.norm(v1) * np.linalg.norm(v2)))\n",
    "\n",
    "    face_normals = []\n",
    "    for triangle in mesh.cells_dict.get(\"triangle\", []):\n",
    "        v1, v2, v3 = [mesh.points[v] for v in triangle]\n",
    "        edge1 = v2 - v1\n",
    "        edge2 = v3 - v2\n",
    "        face_normals.append(np.cross(edge1, edge2))\n",
    "\n",
    "    for i in range(0, len(face_normals) - 1):\n",
    "        angle = angle_between_vectors(face_normals[i], face_normals[i + 1])\n",
    "        if np.degrees(angle) % 90 != 0:\n",
    "            return 0\n",
    "    \n",
    "    else:\n",
    "        return 1"
   ]
  },
  {
   "cell_type": "code",
   "execution_count": 4,
   "metadata": {},
   "outputs": [],
   "source": [
    "def is_cylindrical(mesh):\n",
    "    \n",
    "    max_height = 0\n",
    "    min_height = 10**6\n",
    "    min_area = 10**6\n",
    "    \n",
    "    for i in range(len(mesh.cells)):\n",
    "        if mesh.cells[i].type == 'line':\n",
    "\n",
    "            if len(mesh.cells[i].data) > max_height:\n",
    "                max_height = len(mesh.cells[i].data)\n",
    "                height = max_height\n",
    "\n",
    "            if len(mesh.cells[i].data) < min_height:\n",
    "                min_height = len(mesh.cells[i].data)\n",
    "                radius = min_height\n",
    "\n",
    "        elif mesh.cells[i].type == 'triangle':\n",
    "\n",
    "            if len(mesh.cells[i].data) < min_area:\n",
    "                min_area = len(mesh.cells[i].data)\n",
    "                circle_area = min_area\n",
    "\n",
    "    ratio = (circle_area * height * 4) / (radius**2/4 * height * math.pi)\n",
    "    \n",
    "    if ratio > 0.9 and ratio < 1.1:\n",
    "        return 1\n",
    "    else:\n",
    "        return 0"
   ]
  },
  {
   "cell_type": "code",
   "execution_count": 5,
   "metadata": {},
   "outputs": [
    {
     "name": "stdout",
     "output_type": "stream",
     "text": [
      "\n",
      "\n",
      "\n",
      "\n",
      "\n",
      "\n",
      "\n",
      "\n",
      "\n",
      "\n",
      "\n",
      "\n",
      "\n",
      "\n",
      "\n",
      "\n",
      "\n",
      "\n",
      "\n",
      "\n",
      "\n",
      "\n",
      "\n"
     ]
    }
   ],
   "source": [
    "import pandas as pd\n",
    "\n",
    "msh_files = [file for file in os.listdir('parts')]\n",
    "\n",
    "property_list = []\n",
    "\n",
    "for msh_file in msh_files:\n",
    "\n",
    "    mesh = meshio.read(os.path.join('parts/', msh_file));\n",
    "\n",
    "    vertices = mesh.points\n",
    "    cells = mesh.cells\n",
    "    \n",
    "    # Calculate average vertex distance to the centroid\n",
    "    centroid = np.mean(vertices)\n",
    "    vertex_distances = np.linalg.norm(vertices - centroid)\n",
    "    avg_distance = np.mean(vertex_distances)\n",
    "    \n",
    "    # Calculate average cell area\n",
    "    cell_areas = []\n",
    "    for cell_block in cells:\n",
    "        cell_data = cell_block.data\n",
    "        if cell_block.type == \"triangle\":\n",
    "            for cell_verts in cell_data:\n",
    "                v0, v1, v2 = vertices[cell_verts]\n",
    "                edge1 = v1 - v0\n",
    "                edge2 = v2 - v0\n",
    "                area = 0.5 * np.linalg.norm(np.cross(edge1, edge2))\n",
    "                cell_areas.append(area)\n",
    "    \n",
    "    avg_cell_area = np.mean(cell_areas)\n",
    "    total_area = np.sum(cell_areas)\n",
    "    \n",
    "    # calculating file properties\n",
    "    num_points = len(mesh.points)\n",
    "    num_cells = len(mesh.cells)\n",
    "    num_vertex_group = 0\n",
    "    num_line_group = 0\n",
    "    num_triangle_group = 0\n",
    "    num_vertex = 0\n",
    "    num_line = 0\n",
    "    num_triangle = 0\n",
    "        \n",
    "    for i in range(len(mesh.cells)):    \n",
    "\n",
    "        if mesh.cells[i].type == 'vertex':\n",
    "            num_vertex_group += 1\n",
    "            num_vertex += len(mesh.cells[i].data)\n",
    "        \n",
    "        elif mesh.cells[i].type == 'line':\n",
    "            num_line_group += 1\n",
    "            num_line += len(mesh.cells[i].data)\n",
    "\n",
    "        elif mesh.cells[i].type == 'triangle':\n",
    "            num_triangle_group += 1\n",
    "            num_triangle += len(mesh.cells[i].data) \n",
    "            \n",
    "    properties = {\n",
    "            \"NumPoints\": num_points,\n",
    "            \"NumCells\": num_cells,\n",
    "            \"NumVertixGroups\": num_vertex_group,\n",
    "            \"NumLineGroups\":num_line_group,\n",
    "            \"NumTriangleGroups\": num_triangle_group,\n",
    "            \"NumVertices\": num_vertex,\n",
    "            \"NumLines\": num_line,\n",
    "            \"NumTriangle\": num_triangle,\n",
    "            \"Centroid\": centroid,\n",
    "            \"AverageDistance\": avg_distance,\n",
    "            \"AverageCellArea\": avg_cell_area,\n",
    "            \"TotalCellArea\": total_area,\n",
    "            \"IsRectangular\": is_rectangular(mesh),\n",
    "            \"IsCylindrical\": is_cylindrical(mesh),\n",
    "            \"Type\": \"simple\" if \"simple\" in msh_file else \"complex\"      \n",
    "        }\n",
    "\n",
    "    property_list.append(properties)\n",
    "\n",
    "df = pd.DataFrame(property_list)"
   ]
  },
  {
   "cell_type": "code",
   "execution_count": 6,
   "metadata": {},
   "outputs": [
    {
     "data": {
      "text/html": [
       "<div>\n",
       "<style scoped>\n",
       "    .dataframe tbody tr th:only-of-type {\n",
       "        vertical-align: middle;\n",
       "    }\n",
       "\n",
       "    .dataframe tbody tr th {\n",
       "        vertical-align: top;\n",
       "    }\n",
       "\n",
       "    .dataframe thead th {\n",
       "        text-align: right;\n",
       "    }\n",
       "</style>\n",
       "<table border=\"1\" class=\"dataframe\">\n",
       "  <thead>\n",
       "    <tr style=\"text-align: right;\">\n",
       "      <th></th>\n",
       "      <th>NumPoints</th>\n",
       "      <th>NumCells</th>\n",
       "      <th>NumVertixGroups</th>\n",
       "      <th>NumLineGroups</th>\n",
       "      <th>NumTriangleGroups</th>\n",
       "      <th>NumVertices</th>\n",
       "      <th>NumLines</th>\n",
       "      <th>NumTriangle</th>\n",
       "      <th>Centroid</th>\n",
       "      <th>AverageDistance</th>\n",
       "      <th>AverageCellArea</th>\n",
       "      <th>TotalCellArea</th>\n",
       "      <th>IsRectangular</th>\n",
       "      <th>IsCylindrical</th>\n",
       "      <th>Type</th>\n",
       "    </tr>\n",
       "  </thead>\n",
       "  <tbody>\n",
       "    <tr>\n",
       "      <th>0</th>\n",
       "      <td>17663</td>\n",
       "      <td>26</td>\n",
       "      <td>8</td>\n",
       "      <td>12</td>\n",
       "      <td>6</td>\n",
       "      <td>8</td>\n",
       "      <td>656</td>\n",
       "      <td>35322</td>\n",
       "      <td>0.011212</td>\n",
       "      <td>1160.170396</td>\n",
       "      <td>0.026312</td>\n",
       "      <td>929.382716</td>\n",
       "      <td>1</td>\n",
       "      <td>0</td>\n",
       "      <td>simple</td>\n",
       "    </tr>\n",
       "    <tr>\n",
       "      <th>1</th>\n",
       "      <td>15849</td>\n",
       "      <td>51</td>\n",
       "      <td>16</td>\n",
       "      <td>24</td>\n",
       "      <td>11</td>\n",
       "      <td>16</td>\n",
       "      <td>908</td>\n",
       "      <td>31694</td>\n",
       "      <td>0.512232</td>\n",
       "      <td>1028.928256</td>\n",
       "      <td>0.025997</td>\n",
       "      <td>823.953514</td>\n",
       "      <td>0</td>\n",
       "      <td>0</td>\n",
       "      <td>complex</td>\n",
       "    </tr>\n",
       "    <tr>\n",
       "      <th>2</th>\n",
       "      <td>23947</td>\n",
       "      <td>24</td>\n",
       "      <td>8</td>\n",
       "      <td>11</td>\n",
       "      <td>5</td>\n",
       "      <td>8</td>\n",
       "      <td>740</td>\n",
       "      <td>47898</td>\n",
       "      <td>-0.006262</td>\n",
       "      <td>1195.169990</td>\n",
       "      <td>0.025987</td>\n",
       "      <td>1244.724225</td>\n",
       "      <td>0</td>\n",
       "      <td>0</td>\n",
       "      <td>complex</td>\n",
       "    </tr>\n",
       "    <tr>\n",
       "      <th>3</th>\n",
       "      <td>23007</td>\n",
       "      <td>27</td>\n",
       "      <td>8</td>\n",
       "      <td>12</td>\n",
       "      <td>7</td>\n",
       "      <td>8</td>\n",
       "      <td>1346</td>\n",
       "      <td>46014</td>\n",
       "      <td>0.276402</td>\n",
       "      <td>1224.042947</td>\n",
       "      <td>0.026244</td>\n",
       "      <td>1207.585619</td>\n",
       "      <td>0</td>\n",
       "      <td>0</td>\n",
       "      <td>complex</td>\n",
       "    </tr>\n",
       "    <tr>\n",
       "      <th>4</th>\n",
       "      <td>8329</td>\n",
       "      <td>51</td>\n",
       "      <td>16</td>\n",
       "      <td>24</td>\n",
       "      <td>11</td>\n",
       "      <td>16</td>\n",
       "      <td>613</td>\n",
       "      <td>16654</td>\n",
       "      <td>0.577732</td>\n",
       "      <td>675.991117</td>\n",
       "      <td>0.025917</td>\n",
       "      <td>431.622277</td>\n",
       "      <td>0</td>\n",
       "      <td>0</td>\n",
       "      <td>complex</td>\n",
       "    </tr>\n",
       "    <tr>\n",
       "      <th>5</th>\n",
       "      <td>23542</td>\n",
       "      <td>91</td>\n",
       "      <td>28</td>\n",
       "      <td>43</td>\n",
       "      <td>20</td>\n",
       "      <td>28</td>\n",
       "      <td>2731</td>\n",
       "      <td>47096</td>\n",
       "      <td>0.589907</td>\n",
       "      <td>1245.474037</td>\n",
       "      <td>0.025902</td>\n",
       "      <td>1219.892282</td>\n",
       "      <td>0</td>\n",
       "      <td>0</td>\n",
       "      <td>complex</td>\n",
       "    </tr>\n",
       "    <tr>\n",
       "      <th>6</th>\n",
       "      <td>2707</td>\n",
       "      <td>37</td>\n",
       "      <td>12</td>\n",
       "      <td>17</td>\n",
       "      <td>8</td>\n",
       "      <td>12</td>\n",
       "      <td>253</td>\n",
       "      <td>5414</td>\n",
       "      <td>0.151728</td>\n",
       "      <td>312.328947</td>\n",
       "      <td>0.023951</td>\n",
       "      <td>129.669626</td>\n",
       "      <td>0</td>\n",
       "      <td>0</td>\n",
       "      <td>complex</td>\n",
       "    </tr>\n",
       "    <tr>\n",
       "      <th>7</th>\n",
       "      <td>4060</td>\n",
       "      <td>27</td>\n",
       "      <td>8</td>\n",
       "      <td>12</td>\n",
       "      <td>7</td>\n",
       "      <td>8</td>\n",
       "      <td>319</td>\n",
       "      <td>8116</td>\n",
       "      <td>1.209786</td>\n",
       "      <td>391.319958</td>\n",
       "      <td>0.025640</td>\n",
       "      <td>208.091960</td>\n",
       "      <td>0</td>\n",
       "      <td>0</td>\n",
       "      <td>complex</td>\n",
       "    </tr>\n",
       "    <tr>\n",
       "      <th>8</th>\n",
       "      <td>27344</td>\n",
       "      <td>22</td>\n",
       "      <td>7</td>\n",
       "      <td>10</td>\n",
       "      <td>5</td>\n",
       "      <td>7</td>\n",
       "      <td>967</td>\n",
       "      <td>54692</td>\n",
       "      <td>-0.017966</td>\n",
       "      <td>1476.177917</td>\n",
       "      <td>0.026345</td>\n",
       "      <td>1440.846847</td>\n",
       "      <td>0</td>\n",
       "      <td>0</td>\n",
       "      <td>complex</td>\n",
       "    </tr>\n",
       "    <tr>\n",
       "      <th>9</th>\n",
       "      <td>3215</td>\n",
       "      <td>45</td>\n",
       "      <td>14</td>\n",
       "      <td>21</td>\n",
       "      <td>10</td>\n",
       "      <td>14</td>\n",
       "      <td>575</td>\n",
       "      <td>6434</td>\n",
       "      <td>-0.745831</td>\n",
       "      <td>365.357630</td>\n",
       "      <td>0.024593</td>\n",
       "      <td>158.230424</td>\n",
       "      <td>0</td>\n",
       "      <td>0</td>\n",
       "      <td>complex</td>\n",
       "    </tr>\n",
       "    <tr>\n",
       "      <th>10</th>\n",
       "      <td>6811</td>\n",
       "      <td>102</td>\n",
       "      <td>32</td>\n",
       "      <td>50</td>\n",
       "      <td>20</td>\n",
       "      <td>32</td>\n",
       "      <td>577</td>\n",
       "      <td>13630</td>\n",
       "      <td>0.144409</td>\n",
       "      <td>513.617620</td>\n",
       "      <td>0.024448</td>\n",
       "      <td>333.226623</td>\n",
       "      <td>0</td>\n",
       "      <td>0</td>\n",
       "      <td>complex</td>\n",
       "    </tr>\n",
       "    <tr>\n",
       "      <th>11</th>\n",
       "      <td>15680</td>\n",
       "      <td>44</td>\n",
       "      <td>14</td>\n",
       "      <td>21</td>\n",
       "      <td>9</td>\n",
       "      <td>14</td>\n",
       "      <td>1137</td>\n",
       "      <td>31376</td>\n",
       "      <td>-0.065337</td>\n",
       "      <td>967.953622</td>\n",
       "      <td>0.025563</td>\n",
       "      <td>802.078440</td>\n",
       "      <td>0</td>\n",
       "      <td>0</td>\n",
       "      <td>complex</td>\n",
       "    </tr>\n",
       "    <tr>\n",
       "      <th>12</th>\n",
       "      <td>7211</td>\n",
       "      <td>40</td>\n",
       "      <td>12</td>\n",
       "      <td>19</td>\n",
       "      <td>9</td>\n",
       "      <td>12</td>\n",
       "      <td>795</td>\n",
       "      <td>14430</td>\n",
       "      <td>0.024353</td>\n",
       "      <td>543.034874</td>\n",
       "      <td>0.025896</td>\n",
       "      <td>373.680371</td>\n",
       "      <td>0</td>\n",
       "      <td>0</td>\n",
       "      <td>complex</td>\n",
       "    </tr>\n",
       "    <tr>\n",
       "      <th>13</th>\n",
       "      <td>8072</td>\n",
       "      <td>13</td>\n",
       "      <td>4</td>\n",
       "      <td>5</td>\n",
       "      <td>4</td>\n",
       "      <td>4</td>\n",
       "      <td>327</td>\n",
       "      <td>16140</td>\n",
       "      <td>0.199560</td>\n",
       "      <td>624.962830</td>\n",
       "      <td>0.025942</td>\n",
       "      <td>418.697483</td>\n",
       "      <td>0</td>\n",
       "      <td>0</td>\n",
       "      <td>complex</td>\n",
       "    </tr>\n",
       "    <tr>\n",
       "      <th>14</th>\n",
       "      <td>10764</td>\n",
       "      <td>14</td>\n",
       "      <td>4</td>\n",
       "      <td>6</td>\n",
       "      <td>4</td>\n",
       "      <td>4</td>\n",
       "      <td>355</td>\n",
       "      <td>21524</td>\n",
       "      <td>-0.036400</td>\n",
       "      <td>786.372914</td>\n",
       "      <td>0.026380</td>\n",
       "      <td>567.795260</td>\n",
       "      <td>0</td>\n",
       "      <td>0</td>\n",
       "      <td>simple</td>\n",
       "    </tr>\n",
       "    <tr>\n",
       "      <th>15</th>\n",
       "      <td>14514</td>\n",
       "      <td>26</td>\n",
       "      <td>8</td>\n",
       "      <td>12</td>\n",
       "      <td>6</td>\n",
       "      <td>8</td>\n",
       "      <td>616</td>\n",
       "      <td>29024</td>\n",
       "      <td>0.000913</td>\n",
       "      <td>972.197767</td>\n",
       "      <td>0.026552</td>\n",
       "      <td>770.637119</td>\n",
       "      <td>1</td>\n",
       "      <td>0</td>\n",
       "      <td>simple</td>\n",
       "    </tr>\n",
       "    <tr>\n",
       "      <th>16</th>\n",
       "      <td>2367</td>\n",
       "      <td>52</td>\n",
       "      <td>16</td>\n",
       "      <td>24</td>\n",
       "      <td>12</td>\n",
       "      <td>16</td>\n",
       "      <td>532</td>\n",
       "      <td>4738</td>\n",
       "      <td>-0.237329</td>\n",
       "      <td>292.731185</td>\n",
       "      <td>0.023539</td>\n",
       "      <td>111.528704</td>\n",
       "      <td>0</td>\n",
       "      <td>0</td>\n",
       "      <td>complex</td>\n",
       "    </tr>\n",
       "    <tr>\n",
       "      <th>17</th>\n",
       "      <td>30362</td>\n",
       "      <td>46</td>\n",
       "      <td>14</td>\n",
       "      <td>21</td>\n",
       "      <td>11</td>\n",
       "      <td>14</td>\n",
       "      <td>1236</td>\n",
       "      <td>60728</td>\n",
       "      <td>0.158249</td>\n",
       "      <td>1648.852554</td>\n",
       "      <td>0.026286</td>\n",
       "      <td>1596.293233</td>\n",
       "      <td>0</td>\n",
       "      <td>0</td>\n",
       "      <td>complex</td>\n",
       "    </tr>\n",
       "    <tr>\n",
       "      <th>18</th>\n",
       "      <td>5551</td>\n",
       "      <td>8</td>\n",
       "      <td>2</td>\n",
       "      <td>3</td>\n",
       "      <td>3</td>\n",
       "      <td>2</td>\n",
       "      <td>188</td>\n",
       "      <td>11098</td>\n",
       "      <td>0.008045</td>\n",
       "      <td>498.347798</td>\n",
       "      <td>0.026847</td>\n",
       "      <td>297.950530</td>\n",
       "      <td>0</td>\n",
       "      <td>1</td>\n",
       "      <td>simple</td>\n",
       "    </tr>\n",
       "    <tr>\n",
       "      <th>19</th>\n",
       "      <td>10053</td>\n",
       "      <td>51</td>\n",
       "      <td>16</td>\n",
       "      <td>24</td>\n",
       "      <td>11</td>\n",
       "      <td>16</td>\n",
       "      <td>663</td>\n",
       "      <td>20102</td>\n",
       "      <td>0.472107</td>\n",
       "      <td>748.391796</td>\n",
       "      <td>0.025703</td>\n",
       "      <td>516.680394</td>\n",
       "      <td>0</td>\n",
       "      <td>0</td>\n",
       "      <td>complex</td>\n",
       "    </tr>\n",
       "    <tr>\n",
       "      <th>20</th>\n",
       "      <td>17331</td>\n",
       "      <td>22</td>\n",
       "      <td>6</td>\n",
       "      <td>9</td>\n",
       "      <td>7</td>\n",
       "      <td>6</td>\n",
       "      <td>713</td>\n",
       "      <td>34658</td>\n",
       "      <td>0.342230</td>\n",
       "      <td>940.872794</td>\n",
       "      <td>0.026384</td>\n",
       "      <td>914.424171</td>\n",
       "      <td>0</td>\n",
       "      <td>0</td>\n",
       "      <td>complex</td>\n",
       "    </tr>\n",
       "    <tr>\n",
       "      <th>21</th>\n",
       "      <td>4286</td>\n",
       "      <td>168</td>\n",
       "      <td>53</td>\n",
       "      <td>83</td>\n",
       "      <td>32</td>\n",
       "      <td>53</td>\n",
       "      <td>999</td>\n",
       "      <td>8584</td>\n",
       "      <td>-0.575439</td>\n",
       "      <td>497.416776</td>\n",
       "      <td>0.023501</td>\n",
       "      <td>201.729942</td>\n",
       "      <td>0</td>\n",
       "      <td>0</td>\n",
       "      <td>complex</td>\n",
       "    </tr>\n",
       "    <tr>\n",
       "      <th>22</th>\n",
       "      <td>1840</td>\n",
       "      <td>14</td>\n",
       "      <td>4</td>\n",
       "      <td>6</td>\n",
       "      <td>4</td>\n",
       "      <td>4</td>\n",
       "      <td>277</td>\n",
       "      <td>3676</td>\n",
       "      <td>1.109025</td>\n",
       "      <td>231.142634</td>\n",
       "      <td>0.024988</td>\n",
       "      <td>91.856870</td>\n",
       "      <td>0</td>\n",
       "      <td>0</td>\n",
       "      <td>simple</td>\n",
       "    </tr>\n",
       "  </tbody>\n",
       "</table>\n",
       "</div>"
      ],
      "text/plain": [
       "    NumPoints  NumCells  NumVertixGroups  NumLineGroups  NumTriangleGroups  \\\n",
       "0       17663        26                8             12                  6   \n",
       "1       15849        51               16             24                 11   \n",
       "2       23947        24                8             11                  5   \n",
       "3       23007        27                8             12                  7   \n",
       "4        8329        51               16             24                 11   \n",
       "5       23542        91               28             43                 20   \n",
       "6        2707        37               12             17                  8   \n",
       "7        4060        27                8             12                  7   \n",
       "8       27344        22                7             10                  5   \n",
       "9        3215        45               14             21                 10   \n",
       "10       6811       102               32             50                 20   \n",
       "11      15680        44               14             21                  9   \n",
       "12       7211        40               12             19                  9   \n",
       "13       8072        13                4              5                  4   \n",
       "14      10764        14                4              6                  4   \n",
       "15      14514        26                8             12                  6   \n",
       "16       2367        52               16             24                 12   \n",
       "17      30362        46               14             21                 11   \n",
       "18       5551         8                2              3                  3   \n",
       "19      10053        51               16             24                 11   \n",
       "20      17331        22                6              9                  7   \n",
       "21       4286       168               53             83                 32   \n",
       "22       1840        14                4              6                  4   \n",
       "\n",
       "    NumVertices  NumLines  NumTriangle  Centroid  AverageDistance  \\\n",
       "0             8       656        35322  0.011212      1160.170396   \n",
       "1            16       908        31694  0.512232      1028.928256   \n",
       "2             8       740        47898 -0.006262      1195.169990   \n",
       "3             8      1346        46014  0.276402      1224.042947   \n",
       "4            16       613        16654  0.577732       675.991117   \n",
       "5            28      2731        47096  0.589907      1245.474037   \n",
       "6            12       253         5414  0.151728       312.328947   \n",
       "7             8       319         8116  1.209786       391.319958   \n",
       "8             7       967        54692 -0.017966      1476.177917   \n",
       "9            14       575         6434 -0.745831       365.357630   \n",
       "10           32       577        13630  0.144409       513.617620   \n",
       "11           14      1137        31376 -0.065337       967.953622   \n",
       "12           12       795        14430  0.024353       543.034874   \n",
       "13            4       327        16140  0.199560       624.962830   \n",
       "14            4       355        21524 -0.036400       786.372914   \n",
       "15            8       616        29024  0.000913       972.197767   \n",
       "16           16       532         4738 -0.237329       292.731185   \n",
       "17           14      1236        60728  0.158249      1648.852554   \n",
       "18            2       188        11098  0.008045       498.347798   \n",
       "19           16       663        20102  0.472107       748.391796   \n",
       "20            6       713        34658  0.342230       940.872794   \n",
       "21           53       999         8584 -0.575439       497.416776   \n",
       "22            4       277         3676  1.109025       231.142634   \n",
       "\n",
       "    AverageCellArea  TotalCellArea  IsRectangular  IsCylindrical     Type  \n",
       "0          0.026312     929.382716              1              0   simple  \n",
       "1          0.025997     823.953514              0              0  complex  \n",
       "2          0.025987    1244.724225              0              0  complex  \n",
       "3          0.026244    1207.585619              0              0  complex  \n",
       "4          0.025917     431.622277              0              0  complex  \n",
       "5          0.025902    1219.892282              0              0  complex  \n",
       "6          0.023951     129.669626              0              0  complex  \n",
       "7          0.025640     208.091960              0              0  complex  \n",
       "8          0.026345    1440.846847              0              0  complex  \n",
       "9          0.024593     158.230424              0              0  complex  \n",
       "10         0.024448     333.226623              0              0  complex  \n",
       "11         0.025563     802.078440              0              0  complex  \n",
       "12         0.025896     373.680371              0              0  complex  \n",
       "13         0.025942     418.697483              0              0  complex  \n",
       "14         0.026380     567.795260              0              0   simple  \n",
       "15         0.026552     770.637119              1              0   simple  \n",
       "16         0.023539     111.528704              0              0  complex  \n",
       "17         0.026286    1596.293233              0              0  complex  \n",
       "18         0.026847     297.950530              0              1   simple  \n",
       "19         0.025703     516.680394              0              0  complex  \n",
       "20         0.026384     914.424171              0              0  complex  \n",
       "21         0.023501     201.729942              0              0  complex  \n",
       "22         0.024988      91.856870              0              0   simple  "
      ]
     },
     "execution_count": 6,
     "metadata": {},
     "output_type": "execute_result"
    }
   ],
   "source": [
    "df"
   ]
  },
  {
   "cell_type": "code",
   "execution_count": 7,
   "metadata": {},
   "outputs": [
    {
     "name": "stdout",
     "output_type": "stream",
     "text": [
      "------------------------------------------------------------------------\n",
      "Training for fold 1 ...\n",
      "Score for fold 1: loss of 0.0036004914436489344; accuracy of 100.0%\n",
      "------------------------------------------------------------------------\n",
      "Training for fold 2 ...\n",
      "Score for fold 2: loss of 1.5818229913711548; accuracy of 66.66666865348816%\n",
      "------------------------------------------------------------------------\n",
      "Training for fold 3 ...\n",
      "Score for fold 3: loss of 13.500004768371582; accuracy of 66.66666865348816%\n",
      "------------------------------------------------------------------------\n",
      "Training for fold 4 ...\n",
      "Score for fold 4: loss of 0.008464287966489792; accuracy of 100.0%\n",
      "------------------------------------------------------------------------\n",
      "Training for fold 5 ...\n"
     ]
    },
    {
     "name": "stderr",
     "output_type": "stream",
     "text": [
      "WARNING:tensorflow:5 out of the last 5 calls to <function Model.make_test_function.<locals>.test_function at 0x000002228E25C670> triggered tf.function retracing. Tracing is expensive and the excessive number of tracings could be due to (1) creating @tf.function repeatedly in a loop, (2) passing tensors with different shapes, (3) passing Python objects instead of tensors. For (1), please define your @tf.function outside of the loop. For (2), @tf.function has reduce_retracing=True option that can avoid unnecessary retracing. For (3), please refer to https://www.tensorflow.org/guide/function#controlling_retracing and https://www.tensorflow.org/api_docs/python/tf/function for  more details.\n"
     ]
    },
    {
     "name": "stdout",
     "output_type": "stream",
     "text": [
      "Score for fold 5: loss of 1.1526844230870269e-20; accuracy of 100.0%\n",
      "------------------------------------------------------------------------\n",
      "Training for fold 6 ...\n"
     ]
    },
    {
     "name": "stderr",
     "output_type": "stream",
     "text": [
      "WARNING:tensorflow:6 out of the last 6 calls to <function Model.make_test_function.<locals>.test_function at 0x000002228FCB2940> triggered tf.function retracing. Tracing is expensive and the excessive number of tracings could be due to (1) creating @tf.function repeatedly in a loop, (2) passing tensors with different shapes, (3) passing Python objects instead of tensors. For (1), please define your @tf.function outside of the loop. For (2), @tf.function has reduce_retracing=True option that can avoid unnecessary retracing. For (3), please refer to https://www.tensorflow.org/guide/function#controlling_retracing and https://www.tensorflow.org/api_docs/python/tf/function for  more details.\n"
     ]
    },
    {
     "name": "stdout",
     "output_type": "stream",
     "text": [
      "Score for fold 6: loss of 1.8343492640490586e-19; accuracy of 100.0%\n",
      "------------------------------------------------------------------------\n",
      "Training for fold 7 ...\n",
      "Score for fold 7: loss of 45.9052734375; accuracy of 0.0%\n",
      "------------------------------------------------------------------------\n",
      "Training for fold 8 ...\n",
      "Score for fold 8: loss of 12.551789283752441; accuracy of 0.0%\n",
      "------------------------------------------------------------------------\n",
      "Training for fold 9 ...\n",
      "Score for fold 9: loss of 2.196995183112449e-06; accuracy of 100.0%\n",
      "------------------------------------------------------------------------\n",
      "Training for fold 10 ...\n",
      "Score for fold 10: loss of 51.72981262207031; accuracy of 50.0%\n"
     ]
    }
   ],
   "source": [
    "from sklearn.preprocessing import LabelEncoder\n",
    "from sklearn.model_selection import train_test_split\n",
    "\n",
    "from tensorflow.keras.models import Sequential\n",
    "from tensorflow.keras.layers import Dense, Flatten, Conv2D, MaxPooling2D\n",
    "from tensorflow.keras.losses import binary_crossentropy \n",
    "from sklearn.model_selection import KFold\n",
    "import matplotlib.pyplot as plt\n",
    "\n",
    "# Model configuration\n",
    "batch_size = 32\n",
    "loss_function = binary_crossentropy \n",
    "no_epochs = 100\n",
    "verbosity = 0\n",
    "num_folds = 10\n",
    "\n",
    "\n",
    "X = df[df.columns[:-1]].astype(float)\n",
    "y = df[df.columns[-1]]\n",
    "\n",
    "encoder = LabelEncoder()\n",
    "encoder.fit(y)\n",
    "encoded_Y = encoder.transform(y)\n",
    "X_train, X_test, y_train, y_test = train_test_split(X, encoded_Y, test_size=0.5, random_state=42)\n",
    "\n",
    "# Define per-fold score containers <-- these are new\n",
    "acc_per_fold = []\n",
    "loss_per_fold = []\n",
    "history_per_fold = []\n",
    "\n",
    "# Merge inputs and targets\n",
    "inputs = np.concatenate((X_train, X_test), axis=0)\n",
    "targets = np.concatenate((y_train, y_test), axis=0)\n",
    "\n",
    "# Define the K-fold Cross Validator\n",
    "kfold = KFold(n_splits=num_folds, shuffle=True)\n",
    "\n",
    "# Initiating Best Model\n",
    "best_loss = 10**6\n",
    "best_accuracy = 0\n",
    "\n",
    "fold_no = 1\n",
    "for train, test in kfold.split(inputs, targets):\n",
    "\n",
    "    # Create the model\n",
    "    model = Sequential()\n",
    "    model.add(Dense(24, activation='relu', input_shape=(len(X.columns),)))\n",
    "    model.add(Dense(48, activation='relu'))\n",
    "    model.add(Dense(48, activation='relu'))\n",
    "    model.add(Dense(48, activation='relu'))\n",
    "    model.add(Dense(24, activation='relu'))\n",
    "    model.add(Dense(1, activation='sigmoid'))\n",
    "\n",
    "    # Compile the model\n",
    "    model.compile(loss=loss_function,\n",
    "                  optimizer='adam',\n",
    "                  metrics=['accuracy'])\n",
    "\n",
    "    # Generate a print\n",
    "    print('------------------------------------------------------------------------')\n",
    "    print(f'Training for fold {fold_no} ...')\n",
    "\n",
    "    # Fit data to model\n",
    "    history = model.fit(inputs[train], targets[train],\n",
    "              batch_size=batch_size,\n",
    "              epochs=no_epochs,\n",
    "              verbose=verbosity)\n",
    "    \n",
    "    # Generate generalization metrics\n",
    "    scores = model.evaluate(inputs[test], targets[test], verbose=0)\n",
    "    print(f'Score for fold {fold_no}: {model.metrics_names[0]} of {scores[0]}; {model.metrics_names[1]} of {scores[1]*100}%')\n",
    "    acc_per_fold.append(scores[1] * 100)\n",
    "    loss_per_fold.append(scores[0])\n",
    "    history_per_fold.append(history)\n",
    "    \n",
    "    # Finding best model\n",
    "    if scores[0] < best_loss and scores[1] > best_accuracy:\n",
    "        best_loss = scores[0]\n",
    "        best_accuracy = scores[1]\n",
    "        \n",
    "        best_model = model\n",
    "        best_fold = fold_no\n",
    "        \n",
    "    # Increase fold number\n",
    "    fold_no = fold_no + 1"
   ]
  },
  {
   "cell_type": "code",
   "execution_count": 8,
   "metadata": {},
   "outputs": [
    {
     "name": "stdout",
     "output_type": "stream",
     "text": [
      "------------------------------------------------------------------------\n",
      "Score per fold\n",
      "------------------------------------------------------------------------\n",
      "> Fold 1 - Loss: 0.0036004914436489344 - Accuracy: 100.0%\n",
      "------------------------------------------------------------------------\n",
      "> Fold 2 - Loss: 1.5818229913711548 - Accuracy: 66.66666865348816%\n",
      "------------------------------------------------------------------------\n",
      "> Fold 3 - Loss: 13.500004768371582 - Accuracy: 66.66666865348816%\n",
      "------------------------------------------------------------------------\n",
      "> Fold 4 - Loss: 0.008464287966489792 - Accuracy: 100.0%\n",
      "------------------------------------------------------------------------\n",
      "> Fold 5 - Loss: 1.1526844230870269e-20 - Accuracy: 100.0%\n",
      "------------------------------------------------------------------------\n",
      "> Fold 6 - Loss: 1.8343492640490586e-19 - Accuracy: 100.0%\n",
      "------------------------------------------------------------------------\n",
      "> Fold 7 - Loss: 45.9052734375 - Accuracy: 0.0%\n",
      "------------------------------------------------------------------------\n",
      "> Fold 8 - Loss: 12.551789283752441 - Accuracy: 0.0%\n",
      "------------------------------------------------------------------------\n",
      "> Fold 9 - Loss: 2.196995183112449e-06 - Accuracy: 100.0%\n",
      "------------------------------------------------------------------------\n",
      "> Fold 10 - Loss: 51.72981262207031 - Accuracy: 50.0%\n",
      "------------------------------------------------------------------------\n",
      "Average scores for all folds:\n",
      "> Accuracy: 68.33333373069763 (+- 38.33333331605663)\n",
      "> Loss: 12.528077007947081\n",
      "------------------------------------------------------------------------\n"
     ]
    }
   ],
   "source": [
    "# == Provide average scores ==\n",
    "print('------------------------------------------------------------------------')\n",
    "print('Score per fold')\n",
    "for i in range(0, len(acc_per_fold)):\n",
    "    print('------------------------------------------------------------------------')\n",
    "    print(f'> Fold {i+1} - Loss: {loss_per_fold[i]} - Accuracy: {acc_per_fold[i]}%')\n",
    "print('------------------------------------------------------------------------')\n",
    "print('Average scores for all folds:')\n",
    "print(f'> Accuracy: {np.mean(acc_per_fold)} (+- {np.std(acc_per_fold)})')\n",
    "print(f'> Loss: {np.mean(loss_per_fold)}')\n",
    "print('------------------------------------------------------------------------')"
   ]
  },
  {
   "cell_type": "code",
   "execution_count": 9,
   "metadata": {},
   "outputs": [
    {
     "data": {
      "image/png": "[encoded data removed]",
      "text/plain": [
       "<Figure size 640x480 with 1 Axes>"
      ]
     },
     "metadata": {},
     "output_type": "display_data"
    }
   ],
   "source": [
    "# Visualize history\n",
    "# Plot history: Loss\n",
    "plt.plot(history_per_fold[best_fold - 1].history['loss'])\n",
    "plt.title('best model validation loss')\n",
    "plt.ylabel('loss')\n",
    "plt.xlabel('epoch')\n",
    "plt.show()"
   ]
  },
  {
   "cell_type": "code",
   "execution_count": 10,
   "metadata": {},
   "outputs": [
    {
     "name": "stdout",
     "output_type": "stream",
     "text": [
      "1/1 [==============================] - 0s 89ms/step\n"
     ]
    }
   ],
   "source": [
    "preds = best_model.predict(X_test)"
   ]
  },
  {
   "cell_type": "code",
   "execution_count": 11,
   "metadata": {},
   "outputs": [
    {
     "data": {
      "text/plain": [
       "array([[5.7895442e-05],\n",
       "       [2.3802042e-03],\n",
       "       [7.2974299e-06],\n",
       "       [1.4609234e-06],\n",
       "       [2.1352628e-07],\n",
       "       [1.5589984e-03],\n",
       "       [2.3337065e-05],\n",
       "       [1.1679862e-03],\n",
       "       [9.6029282e-07],\n",
       "       [1.4611667e-05],\n",
       "       [4.3188000e-05],\n",
       "       [1.9424186e-04]], dtype=float32)"
      ]
     },
     "execution_count": 11,
     "metadata": {},
     "output_type": "execute_result"
    }
   ],
   "source": [
    "preds"
   ]
  },
  {
   "cell_type": "code",
   "execution_count": 12,
   "metadata": {},
   "outputs": [],
   "source": [
    "preds[preds <= max(preds)/10] = 0\n",
    "preds[preds > max(preds)/10] = 1"
   ]
  },
  {
   "cell_type": "code",
   "execution_count": 13,
   "metadata": {},
   "outputs": [
    {
     "data": {
      "text/plain": [
       "array([0., 1., 0., 0., 0., 1., 0., 1., 0., 0., 0., 0.], dtype=float32)"
      ]
     },
     "execution_count": 13,
     "metadata": {},
     "output_type": "execute_result"
    }
   ],
   "source": [
    "preds.flatten()"
   ]
  },
  {
   "cell_type": "code",
   "execution_count": 14,
   "metadata": {},
   "outputs": [
    {
     "data": {
      "text/plain": [
       "array([1, 0, 1, 0, 0, 0, 0, 0, 0, 0, 0, 0])"
      ]
     },
     "execution_count": 14,
     "metadata": {},
     "output_type": "execute_result"
    }
   ],
   "source": [
    "y_test"
   ]
  },
  {
   "cell_type": "markdown",
   "metadata": {},
   "source": [
    "## Scratch Work"
   ]
  },
  {
   "cell_type": "raw",
   "metadata": {
    "scrolled": true
   },
   "source": [
    "from sklearn.model_selection import train_test_split\n",
    "from sklearn.ensemble import RandomForestClassifier\n",
    "import numpy as np\n",
    "from sklearn.preprocessing import LabelEncoder\n",
    "from scikeras.wrappers import KerasClassifier\n",
    "from sklearn.model_selection import StratifiedKFold\n",
    "from sklearn.model_selection import cross_val_score\n",
    "\n",
    "import tensorflow as tf\n",
    "import warnings\n",
    "warnings.filterwarnings(\"ignore\")\n",
    "\n",
    "X = df[df.columns[:-1]].astype(float)\n",
    "y = df[df.columns[-1]]\n",
    "\n",
    "encoder = LabelEncoder()\n",
    "encoder.fit(y)\n",
    "encoded_Y = encoder.transform(y)\n",
    "\n",
    "# Step 2: Train-test split\n",
    "X_train, X_test, y_train, y_test = train_test_split(X, encoded_Y, test_size=0.2, random_state=42)\n",
    "\n",
    "# # Step 3: Initialize and train the model\n",
    "# model = RandomForestClassifier(random_state=42)\n",
    "#model.fit(X_train, y_train)\n",
    "\n",
    "from sklearn.preprocessing import StandardScaler\n",
    "scaler = StandardScaler().fit(X_train)\n",
    "X_train = scaler.transform(X_train)\n",
    "X_test = scaler.transform(X_test) \n",
    "\n",
    "from keras.models import Sequential\n",
    "from keras.layers import Dense\n",
    "model = Sequential()\n",
    "model.add(Dense(24, activation='relu', input_shape=(len(X.columns),)))\n",
    "model.add(Dense(48, activation='relu'))\n",
    "model.add(Dense(48, activation='relu'))\n",
    "model.add(Dense(48, activation='relu'))\n",
    "model.add(Dense(24, activation='relu'))\n",
    "model.add(Dense(1, activation='sigmoid'))\n",
    "\n",
    "model.compile(loss='binary_crossentropy',\n",
    "optimizer='sgd',\n",
    "metrics=['accuracy'])\n",
    "model.fit(X_train, y_train, epochs=100)\n",
    "\n",
    "#test_loss, test_acc = model.evaluate(X_test,  y_test, verbose=2)\n",
    "\n",
    "#print('\\nTest accuracy:', test_acc)\n",
    "\n",
    "# evaluate model with standardized dataset\n",
    "# estimator = KerasClassifier(model=model, epochs=50000, batch_size=30, verbose=0)\n",
    "# kfold = StratifiedKFold(n_splits=100, shuffle=True)\n",
    "\n",
    "# results = cross_val_score(estimator, X, encoded_Y, cv=kfold)\n",
    "# print(\"Baseline: %.2f%%\" % (results))\n",
    "\n",
    "#y_pred = model.predict(X_test)\n",
    "\n",
    "# # Step 4: Evaluate the model\n",
    "# accuracy = model.score(X_test, y_test)\n",
    "# print(f\"Accuracy: {accuracy}\")"
   ]
  },
  {
   "cell_type": "code",
   "execution_count": 15,
   "metadata": {},
   "outputs": [],
   "source": [
    "# algorithm:\n",
    "## 1. check for obvious shapes first (sphere, cube/rectangular prism, cylinder) DONE\n",
    "## 2. add \"is_cylinder/is_square\" feature DONE\n",
    "## 3. num_vertices/triangles/lines feature DONE\n",
    "## 4. make a column called \"predicted\" and set to T/F if already predicted\n",
    "## 5. make a column \"is not rectangle or cylinder\"\n",
    "## 6. train model to identify complex shapes. wide and shallow neural net for wide and small feature space DONE\n",
    "## 7. consider multiple models, but likely will just use NN\n",
    "## 8. can make additional training data \n",
    "\n",
    "\n",
    "# to do\n",
    "## 1. write algorithm DONE\n",
    "## 2. make draw.io diagram for system design DONE\n",
    "## 3. use chatGPT to review theory"
   ]
  },
  {
   "cell_type": "code",
   "execution_count": 16,
   "metadata": {},
   "outputs": [],
   "source": [
    "## To Do\n",
    "# Have multiple models with respective perfomances and tabulate\n",
    "## look at DSGA-1001 for inspiration\n",
    "# Keep expanding feature space"
   ]
  },
  {
   "cell_type": "raw",
   "metadata": {},
   "source": [
    "from sklearn.preprocessing import LabelEncoder\n",
    "from sklearn.model_selection import train_test_split\n",
    "\n",
    "from tensorflow.keras.models import Sequential\n",
    "from tensorflow.keras.layers import Dense, Flatten, Conv2D, MaxPooling2D\n",
    "from tensorflow.keras.losses import binary_crossentropy \n",
    "from tensorflow.keras.optimizers import Adam\n",
    "from sklearn.model_selection import KFold\n",
    "import matplotlib.pyplot as plt\n",
    "\n",
    "# Model configuration\n",
    "batch_size = 50\n",
    "loss_function = binary_crossentropy \n",
    "no_epochs = 100\n",
    "optimizer = Adam()\n",
    "verbosity = 1\n",
    "\n",
    "\n",
    "X = df[df.columns[:-1]].astype(float)\n",
    "y = df[df.columns[-1]]\n",
    "\n",
    "encoder = LabelEncoder()\n",
    "encoder.fit(y)\n",
    "encoded_Y = encoder.transform(y)\n",
    "\n",
    "# Step 2: Train-test split\n",
    "X_train, X_test, y_train, y_test = train_test_split(X, encoded_Y, test_size=0.2, random_state=42)\n",
    "\n",
    "\n",
    "# Create the model\n",
    "model = Sequential()\n",
    "model.add(Dense(24, activation='relu', input_shape=(len(X.columns),)))\n",
    "model.add(Dense(48, activation='relu'))\n",
    "model.add(Dense(48, activation='relu'))\n",
    "model.add(Dense(48, activation='relu'))\n",
    "model.add(Dense(24, activation='relu'))\n",
    "model.add(Dense(1, activation='sigmoid'))\n",
    "\n",
    "\n",
    "# Compile the model\n",
    "model.compile(loss=loss_function,\n",
    "              optimizer=optimizer,\n",
    "              metrics=['accuracy'])\n",
    "\n",
    "# Fit data to model\n",
    "history = model.fit(X_train, y_train,\n",
    "            batch_size=batch_size,\n",
    "            epochs=no_epochs,\n",
    "            verbose=verbosity)\n",
    "\n",
    "# Generate generalization metrics\n",
    "score = model.evaluate(X_test, y_test, verbose=0)\n",
    "print(f'Test loss: {score[0]} / Test accuracy: {score[1]}')\n",
    "\n",
    "# Visualize history\n",
    "# Plot history: Loss\n",
    "plt.plot(history.history['loss'])\n",
    "plt.title('Validation loss history')\n",
    "plt.ylabel('Loss value')\n",
    "plt.xlabel('No. epoch')\n",
    "plt.show()\n",
    "\n",
    "# Plot history: Accuracy\n",
    "plt.plot(history.history['accuracy'])\n",
    "plt.title('Validation accuracy history')\n",
    "plt.ylabel('Accuracy value (%)')\n",
    "plt.xlabel('No. epoch')\n",
    "plt.show()"
   ]
  },
  {
   "cell_type": "raw",
   "metadata": {},
   "source": [
    "def is_potential_sphere(mesh):\n",
    "    # Extract vertices and faces from the mesh\n",
    "    vertices = mesh.points\n",
    "    cells = mesh.cells\n",
    "    \n",
    "    # Calculate average vertex distance to the centroid\n",
    "    centroid = np.mean(vertices, axis=0) \n",
    "    vertex_distances = np.linalg.norm(vertices - centroid, axis=1)\n",
    "    avg_distance = np.mean(vertex_distances)\n",
    "    \n",
    "    # Calculate average cell area\n",
    "    cell_areas = []\n",
    "    for cell_block in cells:\n",
    "        cell_data = cell_block.data\n",
    "        if cell_block.type == \"triangle\":\n",
    "            for cell_verts in cell_data:\n",
    "                v0, v1, v2 = vertices[cell_verts]\n",
    "                edge1 = v1 - v0\n",
    "                edge2 = v2 - v0\n",
    "                area = 0.5 * np.linalg.norm(np.cross(edge1, edge2))\n",
    "                cell_areas.append(area)\n",
    "    \n",
    "    avg_cell_area = np.mean(cell_areas)\n",
    "    \n",
    "    # Heuristic thresholds\n",
    "    distance_threshold = 1.5 * avg_distance\n",
    "    area_ratio_threshold = 0.02\n",
    "    \n",
    "    # Compare average distance and cell area to thresholds\n",
    "    if avg_distance <= distance_threshold and avg_cell_area >= area_ratio_threshold:\n",
    "        return True  # Potential sphere\n",
    "    else:\n",
    "        return False  # More complex object\n",
    "\n",
    "# Example usage\n",
    "mesh = meshio.read('parts/89527_b3bf425d_39.msh')\n",
    "is_sphere = is_potential_sphere(mesh)\n",
    "if is_sphere:\n",
    "    print(\"The mesh appears to be a potential sphere.\")\n",
    "else:\n",
    "    print(\"The mesh appears to be a more complex object.\")"
   ]
  }
 ],
 "metadata": {
  "kernelspec": {
   "display_name": "Python 3 (ipykernel)",
   "language": "python",
   "name": "python3"
  },
  "language_info": {
   "codemirror_mode": {
    "name": "ipython",
    "version": 3
   },
   "file_extension": ".py",
   "mimetype": "text/x-python",
   "name": "python",
   "nbconvert_exporter": "python",
   "pygments_lexer": "ipython3",
   "version": "3.8.17"
  }
 },
 "nbformat": 4,
 "nbformat_minor": 4
}
